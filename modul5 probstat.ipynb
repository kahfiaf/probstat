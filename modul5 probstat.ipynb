{
 "cells": [
  {
   "cell_type": "code",
   "execution_count": 1,
   "id": "1fcd9cb5-3b0a-4ef2-9860-2bfc5bcd0da0",
   "metadata": {},
   "outputs": [
    {
     "name": "stdout",
     "output_type": "stream",
     "text": [
      "Probabilitas tinggi kurang dari 189 cm: 0.8413447460685429\n"
     ]
    }
   ],
   "source": [
    "# KAHFIALAMFERRY\n",
    "# 064102400015\n",
    "\n",
    "from scipy.stats import norm\n",
    "\n",
    "# Menentukan rata-rata dan standar deviasi\n",
    "mean = 184  # rata-rata\n",
    "std_dev = 5  # standar deviasi\n",
    "\n",
    "# Menghitung probabilitas tinggi kurang dari 189 cm\n",
    "height = 189\n",
    "prob_less_than_189 = norm.cdf(height, mean, std_dev)\n",
    "\n",
    "# Menampilkan hasil\n",
    "print(\"Probabilitas tinggi kurang dari 189 cm:\", prob_less_than_189)\n"
   ]
  },
  {
   "cell_type": "code",
   "execution_count": 3,
   "id": "1fa24a0d-4b1f-4b64-9483-194c0aad8893",
   "metadata": {},
   "outputs": [
    {
     "name": "stdout",
     "output_type": "stream",
     "text": [
      "Probabilitas tinggi antara 174 cm dan 199 cm: 0.9758999700201907\n"
     ]
    }
   ],
   "source": [
    "# KAHFIALAMFERRY\n",
    "# 064102400015\n",
    "\n",
    "from scipy.stats import norm\n",
    "\n",
    "# Menentukan rata-rata dan standar deviasi\n",
    "mean = 184  # rata-rata\n",
    "std_dev = 5  # standar deviasi\n",
    "\n",
    "# Menghitung probabilitas tinggi kurang dari 174 cm\n",
    "prob_less_than_174 = norm.cdf(174, mean, std_dev)\n",
    "\n",
    "# Menghitung probabilitas tinggi kurang dari 199 cm\n",
    "prob_less_than_199 = norm.cdf(199, mean, std_dev)\n",
    "\n",
    "# Kemungkinan antara 174 cm dan 199 cm adalah selisih antara probabilitas kurang dari 199 dan kurang dari 174\n",
    "prob_between_174_and_199 = prob_less_than_199 - prob_less_than_174\n",
    "\n",
    "# Menampilkan hasil\n",
    "print(\"Probabilitas tinggi antara 174 cm dan 199 cm:\", prob_between_174_and_199)\n"
   ]
  },
  {
   "cell_type": "code",
   "execution_count": 5,
   "id": "46a3d57f-8734-4f8d-aa75-576059128799",
   "metadata": {},
   "outputs": [
    {
     "name": "stdout",
     "output_type": "stream",
     "text": [
      "Peluang apel yang berkualitas 'not good': 0.0595\n"
     ]
    }
   ],
   "source": [
    "# KAHFIALAMFERRY\n",
    "# 064102400015\n",
    "\n",
    "from scipy.stats import norm\n",
    "\n",
    "# Menentukan rata-rata dan standar deviasi\n",
    "mean = 173  # rata-rata\n",
    "std_dev = 34  # standar deviasi\n",
    "\n",
    "# Menghitung probabilitas apel berkualitas \"not good\" (berat kurang dari 120 gram)\n",
    "prob_not_good = norm.cdf(120, mean, std_dev)\n",
    "\n",
    "# Menampilkan hasil\n",
    "print(\"Peluang apel yang berkualitas 'not good': {:.4f}\".format(prob_not_good))\n"
   ]
  },
  {
   "cell_type": "code",
   "execution_count": 7,
   "id": "edc80b5e-e895-49c3-a74a-1ea3d9dabdee",
   "metadata": {},
   "outputs": [
    {
     "name": "stdout",
     "output_type": "stream",
     "text": [
      "Rata-rata jumlah pelanggan dalam sistem (L): 4.00\n",
      "Rata-rata waktu setiap pelanggan berada dalam sistem (W): 40.00\n"
     ]
    }
   ],
   "source": [
    "# KAHFIALAMFERRY\n",
    "# 064102400015\n",
    "\n",
    "# Definisi laju kedatangan dan laju pelayanan\n",
    "arrival_rate = 1/10   # pelanggan per menit\n",
    "service_rate = 1/8    # pelanggan per menit\n",
    "\n",
    "# Menghitung rata-rata jumlah pelanggan dalam sistem (L)\n",
    "L = arrival_rate / (service_rate - arrival_rate)\n",
    "\n",
    "# Menghitung rata-rata waktu setiap pelanggan berada dalam sistem (W)\n",
    "W = L / arrival_rate\n",
    "\n",
    "# Menampilkan hasil\n",
    "print(\"Rata-rata jumlah pelanggan dalam sistem (L): {:.2f}\".format(L))\n",
    "print(\"Rata-rata waktu setiap pelanggan berada dalam sistem (W): {:.2f}\".format(W))\n"
   ]
  },
  {
   "cell_type": "code",
   "execution_count": 9,
   "id": "f9248458-5307-4480-87ae-96d2512504ad",
   "metadata": {},
   "outputs": [
    {
     "name": "stdout",
     "output_type": "stream",
     "text": [
      "Peluang seseorang dilayani antara 3 sampai 5 menit: 0.1618974\n"
     ]
    }
   ],
   "source": [
    "# KAHFIALAMFERRY\n",
    "# 064102400015\n",
    "\n",
    "from scipy.stats import expon\n",
    "\n",
    "# Rerata waktu pelayanan (mu)\n",
    "mean_service_time = 7.  # menit\n",
    "\n",
    "# Menghitung peluang seseorang dilayani antara 3 sampai 5 menit\n",
    "prob_between_3_and_5 = expon.cdf(5, scale=mean_service_time) - expon.cdf(3, scale=mean_service_time)\n",
    "\n",
    "# Menampilkan hasil\n",
    "print(\"Peluang seseorang dilayani antara 3 sampai 5 menit: {:.7f}\".format(prob_between_3_and_5))\n"
   ]
  },
  {
   "cell_type": "code",
   "execution_count": 11,
   "id": "0c00b6ba-edca-402c-81df-81e461a3a53e",
   "metadata": {},
   "outputs": [
    {
     "name": "stdout",
     "output_type": "stream",
     "text": [
      "Peluang lebih dari 6 pelanggan akan tiba dalam periode 2 menit berikutnya: 0.8698586\n"
     ]
    }
   ],
   "source": [
    "# KAHFIALAMFERRY\n",
    "# 064102400015\n",
    "\n",
    "from scipy.stats import poisson\n",
    "\n",
    "# Rata-rata pelanggan per menit (λ)\n",
    "mean_arrival_rate = 5\n",
    "\n",
    "# Menghitung peluang lebih dari 6 pelanggan tiba dalam periode 2 menit\n",
    "prob_more_than_6_arrivals = 1 - poisson.cdf(6, mu=mean_arrival_rate * 2)\n",
    "\n",
    "# Menampilkan hasil\n",
    "print(\"Peluang lebih dari 6 pelanggan akan tiba dalam periode 2 menit berikutnya: {:.7f}\".format(prob_more_than_6_arrivals))\n"
   ]
  },
  {
   "cell_type": "code",
   "execution_count": 13,
   "id": "dad15973-23ec-4dbb-9b99-25bd83b9168c",
   "metadata": {},
   "outputs": [
    {
     "name": "stdout",
     "output_type": "stream",
     "text": [
      "Tinggi sedemikian rupa sehingga 16,85% pemain basket lebih tinggi dari 188.80 cm\n"
     ]
    }
   ],
   "source": [
    "# KAHFIALAMFERRY\n",
    "# 064102400015\n",
    "\n",
    "from scipy.stats import norm\n",
    "\n",
    "# Menentukan rata-rata dan standar deviasi\n",
    "mean = 184  # rata-rata\n",
    "std_dev = 5  # standar deviasi\n",
    "\n",
    "# Probabilitas tinggi lebih tinggi dari tinggi tertentu\n",
    "prob_more_than = 1 - 0.1685\n",
    "\n",
    "# Menggunakan fungsi quantile untuk menemukan tinggi yang sesuai\n",
    "height = norm.ppf(prob_more_than, mean, std_dev)\n",
    "\n",
    "# Menampilkan hasil\n",
    "print(\"Tinggi sedemikian rupa sehingga 16,85% pemain basket lebih tinggi dari {:.2f} cm\".format(height))\n"
   ]
  },
  {
   "cell_type": "code",
   "execution_count": 15,
   "id": "76e2bc91-41f8-4d08-83de-090edd5ac33a",
   "metadata": {},
   "outputs": [
    {
     "name": "stdout",
     "output_type": "stream",
     "text": [
      "Probabilitas kurang dari atau sama dengan 2 apel berkualitas 'not good': 0.9903771\n"
     ]
    }
   ],
   "source": [
    "# KAHFIALAMFERRY\n",
    "# 064102400015\n",
    "\n",
    "from scipy.stats import binom\n",
    "\n",
    "# Menentukan parameter distribusi binomial\n",
    "n = 8  # total jumlah apel\n",
    "p = 0.06  # probabilitas apel berkualitas \"not good\"\n",
    "\n",
    "# Menghitung probabilitas jumlah apel berkualitas \"not good\" kurang dari/i atau sama dengan 2\n",
    "prob_not_good_2_or_less = binom.cdf(2, n, p)\n",
    "\n",
    "# Menampilkan hasil\n",
    "print(\"Probabilitas kurang dari atau sama dengan 2 apel berkualitas 'not good': {:.7f}\".format(prob_not_good_2_or_less))\n"
   ]
  },
  {
   "cell_type": "code",
   "execution_count": 19,
   "id": "fbb5c087-bcd2-47e9-9b5e-5ac659c146b0",
   "metadata": {},
   "outputs": [
    {
     "name": "stdout",
     "output_type": "stream",
     "text": [
      "Rata-rata jumlah pelanggan dalam sistem (L) setelah perubahan: 1.00\n",
      "Rata-rata waktu setiap pelanggan berada dalam sistem (W) setelah perubahan: 16.00\n"
     ]
    }
   ],
   "source": [
    "# KAHFIALAMFERRY\n",
    "# 064102400015\n",
    "\n",
    "# Definisi laju kedatangan dan laju pelayanan\n",
    "arrival_rate_new = 1/16  # pelanggan per menit\n",
    "\n",
    "# Menghitung ulang rata-rata jumlah pelanggan dalam sistem (L)\n",
    "L_new = arrival_rate_new / (service_rate - arrival_rate_new)\n",
    "\n",
    "# Menghitung ulang rata-rata waktu setiap pelanggan berada dalam sistem (W)\n",
    "W_new = L_new / arrival_rate_new\n",
    "\n",
    "# Menampilkan hasil\n",
    "print(\"Rata-rata jumlah pelanggan dalam sistem (L) setelah perubahan: {:.2f}\".format(L_new))\n",
    "print(\"Rata-rata waktu setiap pelanggan berada dalam sistem (W) setelah perubahan: {:.2f}\".format(W_new))\n",
    "\n"
   ]
  },
  {
   "cell_type": "code",
   "execution_count": 21,
   "id": "e1443a22-bfec-4a1d-8d83-d1d8c8dfdfae",
   "metadata": {},
   "outputs": [
    {
     "name": "stdout",
     "output_type": "stream",
     "text": [
      "Peluang seseorang mendapatkan pelayanan lebih dari 8 menit: 0.3189066\n"
     ]
    }
   ],
   "source": [
    "# KAHFIALAMFERRY\n",
    "# 064102400015\n",
    "\n",
    "from scipy.stats import expon\n",
    "\n",
    "# Rerata waktu pelayanan (mu)\n",
    "mean_service_time = 7  # menit\n",
    "\n",
    "# Menghitung peluang seseorang mendapatkan pelayanan lebih dari 8 menit\n",
    "prob_more_than_8_minutes = 1 - expon.cdf(8, scale=mean_service_time)\n",
    "\n",
    "# Menampilkan hasil\n",
    "print(\"Peluang seseorang mendapatkan pelayanan lebih dari 8 menit: {:.7f}\".format(prob_more_than_8_minutes))\n"
   ]
  },
  {
   "cell_type": "code",
   "execution_count": 23,
   "id": "e6c3f7d4-20d9-4970-8525-a2dff02dc045",
   "metadata": {},
   "outputs": [
    {
     "name": "stdout",
     "output_type": "stream",
     "text": [
      "Peluang bahwa dalam 1 menit berikutnya terdapat tepat 4 pelanggan yang akan datang: 0.1754674\n"
     ]
    }
   ],
   "source": [
    "# KAHFIALAMFERRY\n",
    "# 064102400015\n",
    "\n",
    "from scipy.stats import poisson\n",
    "\n",
    "# Rata-rata pelanggan per menit (λ)\n",
    "mean_arrival_rate = 5\n",
    "\n",
    "# Menghitung peluang tepat 4 pelanggan akan datang dalam 1 menit\n",
    "prob_4_arrivals = poisson.pmf(4, mu=mean_arrival_rate)\n",
    "\n",
    "# Menampilkan hasil\n",
    "print(\"Peluang bahwa dalam 1 menit berikutnya terdapat tepat 4 pelanggan yang akan datang: {:.7f}\".format(prob_4_arrivals))\n"
   ]
  },
  {
   "cell_type": "code",
   "execution_count": null,
   "id": "dd4923a0-a144-498e-adaf-32139f1ad3b1",
   "metadata": {},
   "outputs": [],
   "source": []
  }
 ],
 "metadata": {
  "kernelspec": {
   "display_name": "Python [conda env:base] *",
   "language": "python",
   "name": "conda-base-py"
  },
  "language_info": {
   "codemirror_mode": {
    "name": "ipython",
    "version": 3
   },
   "file_extension": ".py",
   "mimetype": "text/x-python",
   "name": "python",
   "nbconvert_exporter": "python",
   "pygments_lexer": "ipython3",
   "version": "3.12.7"
  }
 },
 "nbformat": 4,
 "nbformat_minor": 5
}
