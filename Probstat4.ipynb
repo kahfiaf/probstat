{
 "cells": [
  {
   "cell_type": "code",
   "execution_count": 11,
   "id": "e6a8f187-7df2-4cb4-aca5-9c8bc62cffca",
   "metadata": {},
   "outputs": [
    {
     "name": "stdout",
     "output_type": "stream",
     "text": [
      "Probabilitas P(X=k) untuk distribusi binomial: 0.1171875\n"
     ]
    }
   ],
   "source": [
    "# Kahfi ALam Ferry - 064102400015\n",
    "\n",
    "import math\n",
    "\n",
    "# Fungsi untuk menghitung kombinasi (n choose k)\n",
    "def n_choose_k(n, k):\n",
    "    return math.factorial(n) / (math.factorial(k) * math.factorial(n - k))\n",
    "\n",
    "# Fungsi untuk menghitung probabilitas P(X=k) dalam distribusi binomial\n",
    "def binomial_probability(n, k, p):\n",
    "    return n_choose_k(n, k) * (p ** k) * ((1 - p) ** (n - k))\n",
    "\n",
    "# Parameter distribusi binomial\n",
    "n = 10  # jumlah percobaan\n",
    "p = 0.5  # probabilitas keberhasilan dalam satu percobaan\n",
    "k = 3  # jumlah keberhasilan yang diinginkan\n",
    "\n",
    "# Menghitung probabilitas P(X=k) untuk distribusi binomial\n",
    "prob_binomial = binomial_probability(n, k, p)\n",
    "print(\"Probabilitas P(X=k) untuk distribusi binomial:\", prob_binomial)\n"
   ]
  },
  {
   "cell_type": "code",
   "execution_count": 9,
   "id": "578fc845-31b1-4b4b-b0cc-260edddeda6b",
   "metadata": {},
   "outputs": [
    {
     "name": "stdout",
     "output_type": "stream",
     "text": [
      "Probabilitas P(X=k) untuk distribusi binomial: 0.1171875\n"
     ]
    }
   ],
   "source": [
    "# Kahfi ALam Ferry - 064102400015\n",
    "\n",
    "from scipy.stats import binom\n",
    "\n",
    "# Distribusi Binomial\n",
    "n = 10  # jumlah percobaan\n",
    "p = 0.5  # probabilitas keberhasilan dalam satu percobaan\n",
    "k = 3  # jumlah keberhasilan yang diragukan\n",
    "\n",
    "prob_binomial = binom.pmf(k, n, p)\n",
    "print(\"Probabilitas P(X=k) untuk distribusi binomial:\", prob_binomial)\n"
   ]
  },
  {
   "cell_type": "code",
   "execution_count": 7,
   "id": "92526abb-aa9a-4fff-93cb-5bbb8d938f37",
   "metadata": {},
   "outputs": [
    {
     "name": "stdout",
     "output_type": "stream",
     "text": [
      "Probabilitas P(X=k) untuk distribusi Poisson: 0.22404180765538775\n"
     ]
    }
   ],
   "source": [
    "# Kahfi ALam Ferry - 064102400015\n",
    "\n",
    "import math\n",
    "\n",
    "# Fungsi untuk menghitung probabilitas P(X=k) dalam distribusi Poisson\n",
    "def poisson_probability(lambd, k):\n",
    "    return (lambd ** k) * math.exp(-lambd) / math.factorial(k)\n",
    "\n",
    "# Parameter distribusi Poisson\n",
    "lambd = 3  # rata-rata jumlah peristiwa dalam interval waktu/titik\n",
    "k = 2  # jumlah peristiwa yang diinginkan\n",
    "\n",
    "# Menghitung probabilitas P(X=k) untuk distribusi Poisson\n",
    "prob_poisson = poisson_probability(lambd, k)\n",
    "print(\"Probabilitas P(X=k) untuk distribusi Poisson:\", prob_poisson)\n"
   ]
  },
  {
   "cell_type": "code",
   "execution_count": 13,
   "id": "1cbe3cff-ed42-4a01-b175-6c718a77fba3",
   "metadata": {},
   "outputs": [
    {
     "name": "stdout",
     "output_type": "stream",
     "text": [
      "Probabilitas P(X=k) untuk distribusi Poisson: 0.22404180765538775\n"
     ]
    }
   ],
   "source": [
    "# Kahfi ALam Ferry - 064102400015\n",
    "\n",
    "from scipy.stats import poisson\n",
    "\n",
    "# Distribusi Poisson\n",
    "lambd = 3  # rata-rata jumlah peristiwa dalam interval waktu/titik\n",
    "k = 2  # jumlah peristiwa yang diinginkan\n",
    "\n",
    "prob_poisson = poisson.pmf(k, lambd)\n",
    "print(\"Probabilitas P(X=k) untuk distribusi Poisson:\", prob_poisson)\n"
   ]
  },
  {
   "cell_type": "code",
   "execution_count": 15,
   "id": "347a472b-6633-4076-b795-a0286d40b772",
   "metadata": {},
   "outputs": [
    {
     "name": "stdout",
     "output_type": "stream",
     "text": [
      "0.1285054390988551\n"
     ]
    }
   ],
   "source": [
    "# Kahfi ALam Ferry - 064102400015\n",
    "\n",
    "from scipy import stats\n",
    "\n",
    "X = stats.binom(15, 0.1)\n",
    "print(X.pmf(3))  # p(X = 3)\n"
   ]
  },
  {
   "cell_type": "code",
   "execution_count": 17,
   "id": "dbc768f5-71fe-4cd7-b629-ce64c556dd59",
   "metadata": {},
   "outputs": [
    {
     "name": "stdout",
     "output_type": "stream",
     "text": [
      "0.8159389308936089\n"
     ]
    }
   ],
   "source": [
    "# Kahfi ALam Ferry - 064102400015\n",
    "\n",
    "print(X.cdf(2))      #P(X <= 2)"
   ]
  },
  {
   "cell_type": "code",
   "execution_count": 19,
   "id": "59f960eb-729c-4dd6-ab3e-02d48a0cab9f",
   "metadata": {},
   "outputs": [
    {
     "name": "stdout",
     "output_type": "stream",
     "text": [
      "0.002216045197080002\n"
     ]
    }
   ],
   "source": [
    "# Kahfi ALam Ferry - 064102400015\n",
    "\n",
    "print(X.pmf(6)+X.pmf(7))"
   ]
  },
  {
   "cell_type": "code",
   "execution_count": 21,
   "id": "b9b3c9ce-17a7-403f-9b9d-b9eb3d000a70",
   "metadata": {},
   "outputs": [
    {
     "name": "stdout",
     "output_type": "stream",
     "text": [
      "0.17546736976785063\n"
     ]
    }
   ],
   "source": [
    "# Kahfi ALam Ferry - 064102400015\n",
    "\n",
    "from scipy import stats\n",
    "\n",
    "Y = stats.poisson(5)\n",
    "print(Y.pmf(4))  # P(Y = 4)\n"
   ]
  },
  {
   "cell_type": "code",
   "execution_count": 23,
   "id": "4aeca5a7-fea8-42d7-a12a-d4e26c5e612b",
   "metadata": {},
   "outputs": [
    {
     "name": "stdout",
     "output_type": "stream",
     "text": [
      "0.17886305056987967\n"
     ]
    }
   ],
   "source": [
    "# Kahfi ALam Ferry - 064102400015\n",
    "\n",
    "from scipy import stats\n",
    "\n",
    "# Mendefinisikan variabel X sebagai distribusi binomial dengan 20 percobaan dan probabilitas sukses 0.7\n",
    "X = stats.binom(20, 0.7)\n",
    "\n",
    "# Menghitung probabilitas massa X sama dengan 15\n",
    "pmf_15 = X.pmf(15)\n",
    "\n",
    "# Mencetak nilai probabilitas\n",
    "print(pmf_15)\n"
   ]
  },
  {
   "cell_type": "code",
   "execution_count": 25,
   "id": "d9669d81-bd43-43e1-a124-5cca4e5d1760",
   "metadata": {},
   "outputs": [
    {
     "name": "stdout",
     "output_type": "stream",
     "text": [
      "0.18044704431548356\n"
     ]
    }
   ],
   "source": [
    "# Kahfi ALam Ferry - 064102400015\n",
    "\n",
    "from scipy import stats\n",
    "\n",
    "Y = stats.poisson(2)\n",
    "\n",
    "print(Y.pmf(3))  # P(Y=3)\n"
   ]
  },
  {
   "cell_type": "code",
   "execution_count": 29,
   "id": "1f8aaaeb-862e-48c7-889f-760196c2282a",
   "metadata": {},
   "outputs": [
    {
     "name": "stdout",
     "output_type": "stream",
     "text": [
      "Probabilitas bahwa tepat 5 dari 15 perangkat mengalami kegagalan: 0.20613038097752093\n"
     ]
    }
   ],
   "source": [
    "# Kahfi ALam Ferry - 064102400015\n",
    "\n",
    "from scipy.stats import binom\n",
    "\n",
    "# Parameter distribusi binomial\n",
    "n = 15   # jumlah perangkat\n",
    "p = 0.3  # probabilitas kegagalan\n",
    "k = 5    # jumlah perangkat yang gagal\n",
    "\n",
    "# Menghitung probabilitas\n",
    "prob = binom.pmf(k, n, p)\n",
    "\n",
    "# Menampilkan hasil\n",
    "print(\"Probabilitas bahwa tepat 5 dari 15 perangkat mengalami kegagalan:\", prob)\n"
   ]
  },
  {
   "cell_type": "code",
   "execution_count": null,
   "id": "79e04c6c-c574-410b-820a-d6f727090b9d",
   "metadata": {},
   "outputs": [],
   "source": []
  }
 ],
 "metadata": {
  "kernelspec": {
   "display_name": "Python [conda env:base] *",
   "language": "python",
   "name": "conda-base-py"
  },
  "language_info": {
   "codemirror_mode": {
    "name": "ipython",
    "version": 3
   },
   "file_extension": ".py",
   "mimetype": "text/x-python",
   "name": "python",
   "nbconvert_exporter": "python",
   "pygments_lexer": "ipython3",
   "version": "3.12.7"
  }
 },
 "nbformat": 4,
 "nbformat_minor": 5
}
